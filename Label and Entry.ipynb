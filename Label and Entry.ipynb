{
 "cells": [
  {
   "cell_type": "markdown",
   "metadata": {},
   "source": [
    "# Label and Entry Widget"
   ]
  },
  {
   "cell_type": "code",
   "execution_count": null,
   "metadata": {},
   "outputs": [],
   "source": [
    "w = Label ( root, option, ... )"
   ]
  },
  {
   "cell_type": "code",
   "execution_count": null,
   "metadata": {},
   "outputs": [],
   "source": [
    "root − This represents the parent window.\n",
    "\n",
    "options − Here is the list of most commonly used options for this widget.\n",
    "These options can be used as key-value pairs separated by commas."
   ]
  },
  {
   "cell_type": "code",
   "execution_count": null,
   "metadata": {},
   "outputs": [],
   "source": [
    "1>anchor\n",
    "\n",
    "This options controls where the text is positioned if the widget has more space than the text needs. \n",
    "The default is anchor=CENTER, which centers the text in the available space.\n",
    "\n",
    "2>bg\n",
    "\n",
    "The normal background color displayed behind the label and indicator.\n",
    "\n",
    "3>bitmap\n",
    "\n",
    "Set this option equal to a bitmap or image object and the\n",
    "label will display that graphic.\n",
    "\n",
    "4>bd\n",
    "\n",
    "The size of the border around the indicator. Default is 2 pixels.\n",
    "\n",
    "5>cursor\n",
    "\n",
    "If you set this option to a cursor name (arrow, dot etc.), \n",
    "the mouse cursor will change to that pattern when it is over the checkbutton.\n",
    "\n",
    "6>font\n",
    "\n",
    "If you are displaying text in this label (with the text or textvariable option,\n",
    "the font option specifies in what font that text will be displayed.\n",
    "\n",
    "7>fg\n",
    "\n",
    "If you are displaying text or a bitmap in this label, this option specifies the color of the text. \n",
    "If you are displaying a bitmap, this is the color that will appear at the position of the 1-bits in the bitmap.\n",
    "\n",
    "8>height\n",
    "\n",
    "The vertical dimension of the new frame.\n",
    "\n",
    "9>image\n",
    "\n",
    "To display a static image in the label widget, set this option to an image object.\n",
    "\n",
    "10\t\n",
    "justify\n",
    "\n",
    "Specifies how multiple lines of text will be aligned with respect to each other: LEFT for flush left,\n",
    "CENTER for centered (the default), or RIGHT for right-justified.\n",
    "\n",
    "11>padx\n",
    "\n",
    "Extra space added to the left and right of the text within the widget. Default is 1.\n",
    "\n",
    "12>pady\n",
    "\n",
    "Extra space added above and below the text within the widget. Default is 1.\n",
    "\n",
    "13>relief\n",
    "\n",
    "Specifies the appearance of a decorative border around the label. The default is FLAT; for other values.\n",
    "\n",
    "14>text\n",
    "\n",
    "To display one or more lines of text in a label widget, set this option to a string containing the text. \n",
    "Internal newlines (\"\\n\") will force a line break.\n",
    "\n",
    "15>textvariable\n",
    "\n",
    "To slave the text displayed in a label widget to a control variable of class StringVar, set this option to that variable.\n",
    "\n",
    "16>underline\n",
    "\n",
    "You can display an underline (_) below the nth letter of the text, counting from 0, by setting this option to n. \n",
    "The default is underline=-1, which means no underlining.\n",
    "\n",
    "17>width\n",
    "\n",
    "Width of the label in characters (not pixels!). If this option is not set, the label will be sized to fit its contents.\n",
    "\n",
    "18>wraplength\n",
    "\n",
    "You can limit the number of characters in each line by setting this option to the desired number. The default value, \n",
    "0, means that lines will be broken only at newlines."
   ]
  },
  {
   "cell_type": "code",
   "execution_count": 1,
   "metadata": {},
   "outputs": [],
   "source": [
    "import tkinter as tk\n"
   ]
  },
  {
   "cell_type": "code",
   "execution_count": 9,
   "metadata": {},
   "outputs": [],
   "source": [
    "\n",
    "from tkinter import * \n",
    "  \n",
    "  \n",
    "root = tk.Tk()   \n",
    "root.geometry(\"450x300\")  \n",
    "    \n",
    "# the label for user_name \n",
    "user_name = Label(root,text = \"Username\").place(x = 40,y = 60)  \n",
    "    \n",
    "# the label for user_password  \n",
    "user_password = Label(root, text = \"Password\").place(x = 40,y = 100)  \n",
    "    \n",
    "submit_button = Button(root, text = \"Submit\").place(x = 40,y = 130)\n",
    "    \n",
    "username_input = Entry(root,width = 30).place(x = 110,y = 60)  \n",
    "    \n",
    "password_input = Entry(root,width = 30).place(x = 110,y = 100)  \n",
    "      \n",
    "root.mainloop()"
   ]
  },
  {
   "cell_type": "code",
   "execution_count": 20,
   "metadata": {},
   "outputs": [],
   "source": [
    "\n",
    "from tkinter import * \n",
    "  \n",
    "  \n",
    "root = tk.Tk()   \n",
    "root.geometry(\"450x300\")  \n",
    "    \n",
    "# the label for user_name \n",
    "user_name = Label(root,text = \"Username\",font = ('comicsans', 10)).place(x = 40,y = 60)  \n",
    "    \n",
    "# the label for user_password  \n",
    "user_password = Label(root, text = \"Password\",font = ('comicsans', 10)).place(x = 40,y = 100)  \n",
    "    \n",
    "submit_button = Button(root, text = \"Submit\",bg = 'white',fg = 'red',activebackground ='yellow',activeforeground = 'cyan',command = root.destroy).place(x = 160,y = 150)\n",
    "    \n",
    "username_input = Entry(root,width = 30,bg = 'yellow',fg = 'red').place(x = 110,y = 60)  \n",
    "    \n",
    "password_input = Entry(root,width = 30,bg = 'yellow',fg = 'red').place(x = 110,y = 100)  \n",
    "      \n",
    "root.mainloop()"
   ]
  },
  {
   "cell_type": "code",
   "execution_count": null,
   "metadata": {},
   "outputs": [],
   "source": []
  },
  {
   "cell_type": "code",
   "execution_count": null,
   "metadata": {},
   "outputs": [],
   "source": []
  }
 ],
 "metadata": {
  "kernelspec": {
   "display_name": "Python 3",
   "language": "python",
   "name": "python3"
  },
  "language_info": {
   "codemirror_mode": {
    "name": "ipython",
    "version": 3
   },
   "file_extension": ".py",
   "mimetype": "text/x-python",
   "name": "python",
   "nbconvert_exporter": "python",
   "pygments_lexer": "ipython3",
   "version": "3.7.0"
  }
 },
 "nbformat": 4,
 "nbformat_minor": 4
}
