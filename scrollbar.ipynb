{
 "cells": [
  {
   "cell_type": "markdown",
   "metadata": {},
   "source": [
    "# scrollbar widget"
   ]
  },
  {
   "cell_type": "markdown",
   "metadata": {},
   "source": [
    "The scrollbar widget is used to scroll down the content. We can also create the horizontal scrollbars to the Entry widget."
   ]
  },
  {
   "cell_type": "markdown",
   "metadata": {},
   "source": [
    "# Syntax:"
   ]
  },
  {
   "cell_type": "markdown",
   "metadata": {},
   "source": [
    "Syntax\n",
    "Here is the simple syntax to create this widget −\n",
    "\n",
    "w = Scrollbar (root, option, ... )\n",
    "Parameters\n",
    "root − This represents the parent window.\n",
    "\n",
    "options − Here is the list of most commonly used options for this widget. These options can be used as key-value pairs separated by commas."
   ]
  },
  {
   "cell_type": "markdown",
   "metadata": {},
   "source": [
    "# Options:"
   ]
  },
  {
   "cell_type": "markdown",
   "metadata": {},
   "source": [
    "activebackground: This option is used to represent the background color of the widget when it has the focus.\n",
    "\n",
    "bg: This option is used to represent the background color of the widget.\n",
    "\n",
    "bd: This option is used to represent the border width of the widget.\n",
    "\n",
    "command: This option can be set to the procedure associated with the list which can be called each time when the scrollbar is moved.\n",
    "\n",
    "cursor: In this option, the mouse pointer is changed to the cursor type set to this option which can be an arrow, dot, etc.\n",
    "\n",
    "elementborderwidth: This option is used to represent the border width around the arrow heads and slider. The default value is -1.\n",
    "Highlightbackground: This option is used to focus highlighcolor when the widget doesn’t have the focus.\n",
    "\n",
    "highlighcolor: This option is used to focus highlighcolor when the widget has the focus.\n",
    "\n",
    "highlightthickness: This option is used to represent the thickness of the focus highlight.\n",
    "\n",
    "jump: This option is used to control the behavior of the scroll jump. If it set to 1, then the callback is called when the user \n",
    "releases the mouse button.\n",
    "\n",
    "orient: This option can be set to HORIZONTAL or VERTICAL depending upon the orientation of the scrollbar.\n",
    "\n",
    "repeatdelay: This option tells the duration up to which the button is to be pressed before the slider starts moving in that direction repeatedly. The default is 300 ms.\n",
    "\n",
    "repeatinterval: The default value of the repeat interval is 100.\n",
    "\n",
    "takefocus: You can tab the focus through a scrollbar widget\n",
    "\n",
    "troughcolor: This option is used to represent the color of the trough.\n",
    "\n",
    "width: This option is used to represent the width of the scrollbar"
   ]
  },
  {
   "cell_type": "markdown",
   "metadata": {},
   "source": [
    "# Methods:"
   ]
  },
  {
   "cell_type": "markdown",
   "metadata": {},
   "source": [
    "Methods used in this widgets are as follows:\n",
    "\n",
    "get(): This method is used to returns the two numbers a and b which represents the current position of the scrollbar.\n",
    "\n",
    "set(first, last): This method is used to connect the scrollbar to the other widget w. The yscrollcommand or xscrollcommand of the other widget to this method."
   ]
  },
  {
   "cell_type": "code",
   "execution_count": 43,
   "metadata": {},
   "outputs": [],
   "source": [
    "import tkinter\n",
    "from tkinter import *\n",
    "\n",
    "root = tkinter.Tk()\n",
    "root.geometry(\"300x300\")\n",
    "\n",
    "w = Label(root, text ='software Development',font = \"50\")\n",
    "w.pack()\n",
    "\n",
    "\n",
    "scroll_bar = Scrollbar(root,width = 15)\n",
    "scroll_bar.pack( side = RIGHT,fill = Y)            #BOTH means that the widget should expand both horizontally and vertically,\n",
    "                                                      #X means that it should expand only horizontally  \n",
    "                                                        #Y means that it should expand only vertically.\n",
    "mylist = Listbox(root,yscrollcommand = scroll_bar.set, height = 10,width = 42,bg = \"grey\",fg = \"yellow\",activestyle = 'dotbox',font = (\"Helvetica\",15) )\n",
    "mylist.pack( side = LEFT, fill = BOTH )\n",
    "\n",
    "for line in range(1, 26):\n",
    "    mylist.insert(END, \"python\" + str(line))\n",
    "\n",
    "\n",
    "\n",
    "scroll_bar.config( command = mylist.yview ) #config()- change property of the widget\n",
    "                                            #command xview for horizontal scrollbar and yview for the vertical scrollbar.\n",
    "\n",
    "root.mainloop()\n"
   ]
  },
  {
   "cell_type": "code",
   "execution_count": null,
   "metadata": {},
   "outputs": [],
   "source": []
  },
  {
   "cell_type": "code",
   "execution_count": null,
   "metadata": {},
   "outputs": [],
   "source": []
  }
 ],
 "metadata": {
  "kernelspec": {
   "display_name": "Python 3",
   "language": "python",
   "name": "python3"
  },
  "language_info": {
   "codemirror_mode": {
    "name": "ipython",
    "version": 3
   },
   "file_extension": ".py",
   "mimetype": "text/x-python",
   "name": "python",
   "nbconvert_exporter": "python",
   "pygments_lexer": "ipython3",
   "version": "3.7.0"
  }
 },
 "nbformat": 4,
 "nbformat_minor": 4
}
