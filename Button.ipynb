{
 "cells": [
  {
   "cell_type": "code",
   "execution_count": 39,
   "metadata": {},
   "outputs": [],
   "source": [
    "import tkinter as tk"
   ]
  },
  {
   "cell_type": "code",
   "execution_count": 5,
   "metadata": {},
   "outputs": [],
   "source": [
    "root = tk.Tk()\n",
    "root.title(\"First Program\")\n",
    "root.mainloop()\n"
   ]
  },
  {
   "cell_type": "markdown",
   "metadata": {},
   "source": [
    "# Button Widget"
   ]
  },
  {
   "cell_type": "code",
   "execution_count": null,
   "metadata": {},
   "outputs": [],
   "source": [
    "w = Button ( root, option=value, ... )\n",
    "\n",
    "root− This represents the parent window.\n",
    "\n",
    "options − Here is the list of most commonly used options for this widget. \n",
    "These options can be used as key-value pairs separated by commas\n",
    "\n",
    "Option & Description->\n",
    "1>activebackground\n",
    "\n",
    "Background color when the button is under the cursor.\n",
    "\n",
    "2>activeforeground\n",
    "\n",
    "Foreground color when the button is under the cursor.\n",
    "\n",
    "3>bd\n",
    "\n",
    "Border width in pixels. Default is 2.\n",
    "\n",
    "4>bg\n",
    "\n",
    "Normal background color.\n",
    "\n",
    "5>command\n",
    "\n",
    "Function or method to be called when the button is clicked.\n",
    "\n",
    "6>fg\n",
    "\n",
    "Normal foreground (text) color.\n",
    "\n",
    "7>font\n",
    "\n",
    "Text font to be used for the button's label.\n",
    "\n",
    "8>height\n",
    "\n",
    "Height of the button in text lines (for textual buttons) or pixels (for images).\n",
    "\n",
    "9>highlightcolor\n",
    "\n",
    "The color of the focus highlight when the widget has focus.\n",
    "\n",
    "10>image\n",
    "\n",
    "Image to be displayed on the button (instead of text).\n",
    "\n",
    "11>justify\n",
    "\n",
    "How to show multiple text lines: LEFT to left-justify each line; CENTER to center them; or RIGHT to right-justify.\n",
    "\n",
    "12>padx\n",
    "\n",
    "Additional padding left and right of the text.\n",
    "\n",
    "13>pady\n",
    "\n",
    "Additional padding above and below the text.\n",
    "\n",
    "14>relief\n",
    "\n",
    "Relief specifies the type of the border. Some of the values are SUNKEN, RAISED, GROOVE, and RIDGE.\n",
    "B1 = Tkinter.Button(top, text =\"FLAT\", relief=FLAT )\n",
    "B2 = Tkinter.Button(top, text =\"RAISED\", relief=RAISED )\n",
    "B3 = Tkinter.Button(top, text =\"SUNKEN\", relief=SUNKEN )\n",
    "B4 = Tkinter.Button(top, text =\"GROOVE\", relief=GROOVE )\n",
    "B5 = Tkinter.Button(top, text =\"RIDGE\", relief=RIDGE )\n",
    "\n",
    "15>state\n",
    "\n",
    "Set this option to DISABLED to gray out the button and make it unresponsive. Has the value ACTIVE when the mouse is over it. Default is NORMAL.\n",
    "\n",
    "16>underline\n",
    "\n",
    "Default is -1, meaning that no character of the text on the button will be underlined. If nonnegative, the corresponding text character will be underlined.\n",
    "\n",
    "17>width\n",
    "\n",
    "Width of the button in letters (if displaying text) or pixels (if displaying an image).\n",
    "\n",
    "18>wraplength\n",
    "\n",
    "If this value is set to a positive number, the text lines will be wrapped to fit within this length."
   ]
  },
  {
   "cell_type": "code",
   "execution_count": 51,
   "metadata": {},
   "outputs": [],
   "source": [
    "from tkinter import *\n",
    "root = tk.Tk()\n",
    "\n",
    "root.title(\"First Program\")\n",
    "\n",
    "button = tk.Button(root,text = \"Download\",bg = 'green',fg = 'red',activebackground ='yellow',activeforeground = 'cyan',width = 15, height = 2,font = ('comicsans', 15),command = root.destroy,relief=GROOVE)\n",
    "\n",
    "#The colors \"white\", \"black\", \"red\", \"green\", \"blue\", \"cyan\", \"yellow\", and \"magenta\"\n",
    "\n",
    "button.pack()\n",
    "\n",
    "root.geometry(\"300x250\")\n",
    "\n",
    "button.place(x=50, y=50)\n",
    "\n",
    "root.mainloop()"
   ]
  },
  {
   "cell_type": "markdown",
   "metadata": {},
   "source": [
    "# Create a New Window by Clicking a Button in Tkinter"
   ]
  },
  {
   "cell_type": "code",
   "execution_count": 55,
   "metadata": {},
   "outputs": [],
   "source": [
    "\n",
    "Toplevel is the right widget in this circumstance as the Toplevel widget is intended to display extra pop-up windows\n"
   ]
  },
  {
   "cell_type": "code",
   "execution_count": 60,
   "metadata": {},
   "outputs": [],
   "source": [
    "\n",
    "from tkinter import *\n",
    "root = tk.Tk()\n",
    "\n",
    "root.title(\"First Program\")\n",
    "\n",
    "def openNewWindow():\n",
    "     \n",
    "    # Toplevel object which will\n",
    "    # be treated as a new window\n",
    "    openNewWindow = Toplevel(root)\n",
    " \n",
    "    # sets the title of the\n",
    "    # Toplevel widget\n",
    "    openNewWindow.title(\"New Window\")\n",
    " \n",
    "    button1 = tk.Button(openNewWindow,text = \"Download 1\",bg = 'green',fg = 'red',activebackground ='yellow',activeforeground = 'cyan',width = 15, height = 2,font = ('comicsans', 15),command =openNewWindow.destroy ,relief=GROOVE)\n",
    "    button1.pack()\n",
    "\n",
    "    OpenNewWindow.geometry(\"300x250\")\n",
    "\n",
    "    button1.place(x=50, y=50)\n",
    "    \n",
    "    root.mainloop() \n",
    "\n",
    "button = tk.Button(root,text = \"Download\",bg = 'green',fg = 'red',activebackground ='yellow',activeforeground = 'cyan',width = 15, height = 2,font = ('comicsans', 15),command =openNewWindow ,relief=GROOVE)\n",
    "\n",
    "button.pack()\n",
    "\n",
    "root.geometry(\"300x250\")\n",
    "\n",
    "button.place(x=50, y=50)\n",
    "\n",
    "root.mainloop()                       "
   ]
  },
  {
   "cell_type": "markdown",
   "metadata": {},
   "source": [
    "# Python | pack() method in Tkinter"
   ]
  },
  {
   "cell_type": "code",
   "execution_count": null,
   "metadata": {},
   "outputs": [],
   "source": [
    "expand − When set to true, widget expands to fill any space not otherwise used in widget's parent.\n",
    "\n",
    "fill   − Determines whether widget fills any extra space allocated to it by the packer, or keeps its own minimal \n",
    "         dimensions: NONE (default), X (fill only horizontally), Y (fill only vertically), or BOTH (fill both horizontally \n",
    "         and vertically).\n",
    "\n",
    "side −   Determines which side of the parent widget packs against: TOP (default), BOTTOM, LEFT, or RIGHT"
   ]
  },
  {
   "cell_type": "code",
   "execution_count": 69,
   "metadata": {},
   "outputs": [],
   "source": [
    "# creating Tk window\n",
    "root = tk.Tk()\n",
    " \n",
    "# cretaing a Fra, e which can expand according\n",
    "# to the size of the window\n",
    "pane = Frame(root)\n",
    "pane.pack(fill = BOTH, expand = True)\n",
    " \n",
    "# button widgets which can also expand and fill\n",
    "# in the parent widget entirely\n",
    "# Button 1\n",
    "b1 = Button(pane, text = \"Click me !\")\n",
    "b1.pack(fill = BOTH, expand = True)\n",
    " \n",
    "# Button 2\n",
    "b2 = Button(pane, text = \"Click me too\")\n",
    "b2.pack(fill = BOTH, expand = True)\n",
    "root.geometry(\"300x250\")\n",
    "# Execute Tkinter\n",
    "root.mainloop()"
   ]
  },
  {
   "cell_type": "code",
   "execution_count": 70,
   "metadata": {},
   "outputs": [],
   "source": [
    "from tkinter import *\n",
    "\n",
    "root = Tk()\n",
    "frame = Frame(root)\n",
    "frame.pack()\n",
    "\n",
    "bottomframe = Frame(root)\n",
    "bottomframe.pack( side = BOTTOM )\n",
    "\n",
    "redbutton = Button(frame, text=\"Red\", fg=\"red\")\n",
    "redbutton.pack( side = LEFT)\n",
    "\n",
    "greenbutton = Button(frame, text=\"green\", fg=\"green\")\n",
    "greenbutton.pack( side = LEFT )\n",
    "\n",
    "bluebutton = Button(frame, text=\"Blue\", fg=\"blue\")\n",
    "bluebutton.pack( side = LEFT )\n",
    "\n",
    "blackbutton = Button(bottomframe, text=\"Black\", fg=\"black\")\n",
    "blackbutton.pack( side = BOTTOM)\n",
    "root.geometry(\"300x250\")\n",
    "root.mainloop()"
   ]
  },
  {
   "cell_type": "code",
   "execution_count": null,
   "metadata": {},
   "outputs": [],
   "source": []
  }
 ],
 "metadata": {
  "kernelspec": {
   "display_name": "Python 3",
   "language": "python",
   "name": "python3"
  },
  "language_info": {
   "codemirror_mode": {
    "name": "ipython",
    "version": 3
   },
   "file_extension": ".py",
   "mimetype": "text/x-python",
   "name": "python",
   "nbconvert_exporter": "python",
   "pygments_lexer": "ipython3",
   "version": "3.7.0"
  }
 },
 "nbformat": 4,
 "nbformat_minor": 4
}
