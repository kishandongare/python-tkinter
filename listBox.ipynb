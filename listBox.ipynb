{
 "cells": [
  {
   "cell_type": "markdown",
   "metadata": {},
   "source": [
    "# ListBox Widget"
   ]
  },
  {
   "cell_type": "markdown",
   "metadata": {},
   "source": [
    "The ListBox widget is used to display different types of items. These items must be of the same type of font and having the same font color. The items must also be of Text type. The user can select one or more items from the given list according to the requirement."
   ]
  },
  {
   "cell_type": "markdown",
   "metadata": {},
   "source": [
    "# Syntax:"
   ]
  },
  {
   "cell_type": "code",
   "execution_count": null,
   "metadata": {},
   "outputs": [],
   "source": [
    "listbox = Listbox(root,option)"
   ]
  },
  {
   "cell_type": "markdown",
   "metadata": {},
   "source": [
    "# Optional parameters"
   ]
  },
  {
   "cell_type": "markdown",
   "metadata": {},
   "source": [
    "\n",
    "root – root window.\n",
    "\n",
    "bg – background colour\n",
    "\n",
    "fg – foreground colour\n",
    "\n",
    "bd – border\n",
    "\n",
    "height – height of the widget.\n",
    "\n",
    "width – width of the widget.\n",
    "\n",
    "font – Font type of the text.\n",
    "\n",
    "highlightcolor – The colour of the list items when focused.\n",
    "\n",
    "yscrollcommand – for scrolling vertically.\n",
    "\n",
    "xscrollcommand – for scrolling horizontally.\n",
    "\n",
    "cursor – The cursor on the widget which can be an arrow, a dot etc.\n",
    "\n",
    "\n"
   ]
  },
  {
   "cell_type": "markdown",
   "metadata": {},
   "source": [
    "# Common methods"
   ]
  },
  {
   "cell_type": "markdown",
   "metadata": {},
   "source": [
    "\n",
    "yview – allows the widget to be vertically scrollable.\n",
    "\n",
    "xview – allows the widget to be horizontally scrollable.\n",
    "\n",
    "get() – to get the list items in a given range.\n",
    "\n",
    "activate(index) – to select the lines with a specified index.\n",
    "\n",
    "size() – return the number of lines present.\n",
    "\n",
    "delete(start, last) – delete lines in the specified range.\n",
    "\n",
    "nearest(y) – returns the index of the nearest line.\n",
    "\n",
    "curseselection() – returns a tuple for all the line numbers that are being selected."
   ]
  },
  {
   "cell_type": "code",
   "execution_count": 4,
   "metadata": {},
   "outputs": [],
   "source": [
    "from tkinter import *\n",
    "import tkinter\n",
    "\n",
    "# create a root window.\n",
    "root = tkinter.Tk()\n",
    "\n",
    "# Define the size of the window.\n",
    "root.geometry(\"300x300\")\n",
    "\n",
    "# Define a label for the list.\n",
    "label = Label(root, text = \" FOOD ITEMS\")\n",
    "label.pack()\n",
    "\n",
    "# create listbox object\n",
    "listbox = Listbox(root, height = 10,width = 15,bg = \"grey\",fg = \"yellow\",activestyle = 'dotbox',font = \"Helvetica\")\n",
    "listbox.pack()\n",
    "listbox.place(x=10, y=50)\n",
    "\n",
    "\n",
    "listbox.insert(1, \"Nachos\")\n",
    "listbox.insert(2, \"Sandwich\")\n",
    "listbox.insert(3, \"Burger\")\n",
    "listbox.insert(4, \"Pizza\")\n",
    "listbox.insert(5, \"Burrito\")\n",
    "\n",
    "root.mainloop()\n"
   ]
  },
  {
   "cell_type": "code",
   "execution_count": null,
   "metadata": {},
   "outputs": [],
   "source": []
  }
 ],
 "metadata": {
  "kernelspec": {
   "display_name": "Python 3",
   "language": "python",
   "name": "python3"
  },
  "language_info": {
   "codemirror_mode": {
    "name": "ipython",
    "version": 3
   },
   "file_extension": ".py",
   "mimetype": "text/x-python",
   "name": "python",
   "nbconvert_exporter": "python",
   "pygments_lexer": "ipython3",
   "version": "3.7.0"
  }
 },
 "nbformat": 4,
 "nbformat_minor": 4
}
