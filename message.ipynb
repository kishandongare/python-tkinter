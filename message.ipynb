{
 "cells": [
  {
   "cell_type": "markdown",
   "metadata": {},
   "source": [
    "#  Message Widget"
   ]
  },
  {
   "cell_type": "markdown",
   "metadata": {},
   "source": [
    "This widget provides a multiline and noneditable object that displays texts, automatically breaking lines and justifying their contents.\n",
    "\n",
    "Its functionality is very similar to the one provided by the Label widget, except that it can also automatically wrap the text, maintaining a given width or aspect ratio."
   ]
  },
  {
   "cell_type": "markdown",
   "metadata": {},
   "source": [
    "# Syntax"
   ]
  },
  {
   "cell_type": "markdown",
   "metadata": {},
   "source": [
    "w = Message ( root, option, ... )\n",
    "Parameters\n",
    "\n",
    "root − This represents the parent window.\n",
    "\n",
    "options − Here is the list of most commonly used options for this widget. These options can be used as key-value pairs separated by commas."
   ]
  },
  {
   "cell_type": "markdown",
   "metadata": {},
   "source": [
    "# Option & Description"
   ]
  },
  {
   "cell_type": "markdown",
   "metadata": {},
   "source": [
    "\n",
    "1\tanchor\n",
    "\n",
    "This options controls where the text is positioned if the widget has more space than the text needs. The default is anchor=CENTER, which centers the text in the available space.\n",
    "\n",
    "2\tbg\n",
    "\n",
    "The normal background color displayed behind the label and indicator.\n",
    "\n",
    "3\tbitmap\n",
    "\n",
    "Set this option equal to a bitmap or image object and the label will display that graphic.\n",
    "\n",
    "4\tbd\n",
    "\n",
    "The size of the border around the indicator. Default is 2 pixels.\n",
    "\n",
    "5\tcursor\n",
    "\n",
    "If you set this option to a cursor name (arrow, dot etc.), the mouse cursor will change to that pattern when it is over the checkbutton.\n",
    "\n",
    "6\tfont\n",
    "\n",
    "If you are displaying text in this label (with the text or textvariable option, the font option specifies in what font that text will be displayed.\n",
    "\n",
    "7\tfg\n",
    "\n",
    "If you are displaying text or a bitmap in this label, this option specifies the color of the text. If you are displaying a bitmap, this is the color that will appear at the position of the 1-bits in the bitmap.\n",
    "\n",
    "8\theight\n",
    "\n",
    "The vertical dimension of the new frame.\n",
    "\n",
    "9\timage\n",
    "\n",
    "To display a static image in the label widget, set this option to an image object.\n",
    "\n",
    "10\tjustify\n",
    "\n",
    "Specifies how multiple lines of text will be aligned with respect to each other: LEFT for flush left, CENTER for centered (the default), or RIGHT for right-justified.\n",
    "\n",
    "11\tpadx\n",
    "\n",
    "Extra space added to the left and right of the text within the widget. Default is 1.\n",
    "\n",
    "12\tpady\n",
    "\n",
    "Extra space added above and below the text within the widget. Default is 1.\n",
    "\n",
    "13\trelief\n",
    "\n",
    "Specifies the appearance of a decorative border around the label. The default is FLAT; for other values.\n",
    "\n",
    "14\ttext\n",
    "\n",
    "To display one or more lines of text in a label widget, set this option to a string containing the text. Internal newlines (\"\\n\") will force a line break.\n",
    "\n",
    "15\ttextvariable\n",
    "\n",
    "To slave the text displayed in a label widget to a control variable of class StringVar, set this option to that variable.\n",
    "\n",
    "16\tunderline\n",
    "\n",
    "You can display an underline (_) below the nth letter of the text, counting from 0, by setting this option to n. The default is underline=-1, which means no underlining.\n",
    "\n",
    "17\twidth\n",
    "\n",
    "Width of the label in characters (not pixels!). If this option is not set, the label will be sized to fit its contents.\n",
    "\n",
    "18\twraplength\n",
    "\n",
    "You can limit the number of characters in each line by setting this option to the desired number. The default value, 0, means that lines will be broken only at newlines."
   ]
  },
  {
   "cell_type": "code",
   "execution_count": 18,
   "metadata": {},
   "outputs": [],
   "source": [
    "import tkinter\n",
    "from tkinter import *\n",
    "  \n",
    "root = tkinter.Tk()\n",
    "root.geometry(\"300x300\")\n",
    "  \n",
    "w = Label(root, text ='software Developer', font = \"50\") \n",
    "w.pack()\n",
    "    \n",
    "msg = Message( root, text = \"Python learning \",bg = 'yellow',fg = 'red',width = 200,font = ('comicsans', 10))  \n",
    "msg.pack()  \n",
    "\n",
    "msg.place(x=10, y=50)   \n",
    "\n",
    "root.mainloop() "
   ]
  },
  {
   "cell_type": "code",
   "execution_count": null,
   "metadata": {},
   "outputs": [],
   "source": []
  }
 ],
 "metadata": {
  "kernelspec": {
   "display_name": "Python 3",
   "language": "python",
   "name": "python3"
  },
  "language_info": {
   "codemirror_mode": {
    "name": "ipython",
    "version": 3
   },
   "file_extension": ".py",
   "mimetype": "text/x-python",
   "name": "python",
   "nbconvert_exporter": "python",
   "pygments_lexer": "ipython3",
   "version": "3.7.0"
  }
 },
 "nbformat": 4,
 "nbformat_minor": 4
}
